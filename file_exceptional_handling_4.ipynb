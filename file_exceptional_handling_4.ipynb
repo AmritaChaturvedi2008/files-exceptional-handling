{
  "nbformat": 4,
  "nbformat_minor": 0,
  "metadata": {
    "colab": {
      "provenance": []
    },
    "kernelspec": {
      "name": "python3",
      "display_name": "Python 3"
    },
    "language_info": {
      "name": "python"
    }
  },
  "cells": [
    {
      "cell_type": "markdown",
      "source": [
        "# Files, exceptional handling, logging and\n",
        " # memory management Questions"
      ],
      "metadata": {
        "id": "XTJZgely82KH"
      }
    },
    {
      "cell_type": "markdown",
      "source": [
        " ques 1. What is the difference between interpreted and compiled languages?\n",
        "\n",
        "...> Compiled languages (like C++) are translated directly into machine code before execution, resulting in faster performance. Interpreted languages (like Python) are executed line by line by an interpreter, making them more flexible but generally slower."
      ],
      "metadata": {
        "id": "_u3nYF9U9Gh8"
      }
    },
    {
      "cell_type": "markdown",
      "source": [
        " ques 2. What is exception handling in Python?\n",
        "\n",
        "Exception handling is a mechanism to deal with errors or unexpected events that occur during program execution. It allows the program to continue running even if an error occurs."
      ],
      "metadata": {
        "id": "5py8yILk9Y5G"
      }
    },
    {
      "cell_type": "markdown",
      "source": [
        " ques 3. What is the purpose of the finally block in exception handling?\n",
        "\n",
        "The finally block contains code that will always be executed, regardless of whether an exception occurred or not. It's typically used for cleanup operations like closing files or releasing resources."
      ],
      "metadata": {
        "id": "kox8DeZX9f_2"
      }
    },
    {
      "cell_type": "markdown",
      "source": [
        "ques 4. What is logging in Python?\n",
        "\n",
        "Logging is a way to record events that occur during the execution of a program. It helps in debugging, monitoring, and understanding the program's behavior."
      ],
      "metadata": {
        "id": "DR1VP2RA9sSg"
      }
    },
    {
      "cell_type": "markdown",
      "source": [
        "ques 5. What is the significance of the del method in Python?\n",
        "\n",
        "...> The del method (destructor) is called when an object is about to be garbage collected. It's used to release resources held by the object. However, its usage is discouraged due to potential issues with garbage collection cycles.\n"
      ],
      "metadata": {
        "id": "1ZNPNfuS933J"
      }
    },
    {
      "cell_type": "markdown",
      "source": [
        "ques 6. What is the difference between import and from...import in Python?\n",
        "\n",
        " ....> import module imports the entire module, and you access its functions/classes using module.function(). from module import function imports specific items directly, so you can use them without the module prefix."
      ],
      "metadata": {
        "id": "23w4vulr-BZa"
      }
    },
    {
      "cell_type": "markdown",
      "source": [
        "ques 7. How can you handle multiple exceptions in Python?\n",
        "\n",
        "You can handle multiple exceptions using multiple except blocks, specifying different exception types for each block: try:\n",
        "code that might raise exceptions\n",
        " 1. except ValueError:\n",
        " 2. handle ValueError\n",
        " 3. except TypeError:\n",
        " 4. handle TypeError\n",
        " 5. except Exception as e:\n",
        " 6.handle other exceptions"
      ],
      "metadata": {
        "id": "wBlAadYG-RN2"
      }
    },
    {
      "cell_type": "markdown",
      "source": [
        " ques 8. What is the purpose of the with statement when handling files in Python?\n",
        "\n",
        "The with statement ensures that resources (like files) are properly managed. It automatically closes the file when the block is exited, even if exceptions occur."
      ],
      "metadata": {
        "id": "YVM4eobL-w7t"
      }
    },
    {
      "cell_type": "markdown",
      "source": [
        " ques 9. What is the difference between multithreading and multiprocessing?\n",
        "\n",
        "Multithreading runs multiple threads within a single process, sharing the same memory space. Multiprocessing runs multiple processes, each with its own memory space. Multiprocessing is better for CPU-bound tasks, while multithreading is better for I/O-bound tasks."
      ],
      "metadata": {
        "id": "HFhbNUou-xhP"
      }
    },
    {
      "cell_type": "markdown",
      "source": [
        " ques 10. What are the advantages of using logging in a program?\n",
        "\n",
        "Logging helps in debugging, provides a history of program execution, allows filtering of messages based on severity, and aids in monitoring and analyzing program behavior."
      ],
      "metadata": {
        "id": "DyPnIZm4-yau"
      }
    },
    {
      "cell_type": "markdown",
      "source": [
        " ques 11.What is memory management in Python?\n",
        "\n",
        " ....> Memory management in Python involves allocating and deallocating memory for objects. Python uses automatic memory management through garbage collection."
      ],
      "metadata": {
        "id": "ob8qyWwH-zDL"
      }
    },
    {
      "cell_type": "markdown",
      "source": [
        " ques 12. what are the basic steps involved in exception handling in Python?\n",
        "\n",
        " ....> The basic steps are:\n",
        "Enclose code that might raise an exception in a try block.\n",
        "Use except blocks to handle specific exceptions.\n",
        "Optionally, use a finally block for cleanup."
      ],
      "metadata": {
        "id": "jVCIjN9l-zv_"
      }
    },
    {
      "cell_type": "markdown",
      "source": [
        " ques 13. Why is memory management important in Python?\n",
        "\n",
        " ...> Efficient memory management prevents memory leaks and ensures that the program uses resources effectively, leading to better performance and stability."
      ],
      "metadata": {
        "id": "KFJU1Y7N-0Ni"
      }
    },
    {
      "cell_type": "markdown",
      "source": [
        " ques 14. What is the role of try and except in exception handling?\n",
        "\n",
        "....> The try block contains the code that might raise an exception. The except block specifies how to handle the exception if it occurs."
      ],
      "metadata": {
        "id": "13Vuooaq-0mW"
      }
    },
    {
      "cell_type": "markdown",
      "source": [
        " ques 15.How does Python's garbage collection system work?\n",
        "\n",
        " ...> Python uses automatic garbage collection, primarily reference counting. When an object's reference count drops to zero, it is deallocated. It also uses a cyclic garbage collector to handle objects involved in reference cycles."
      ],
      "metadata": {
        "id": "Ll919j0o-1BJ"
      }
    },
    {
      "cell_type": "markdown",
      "source": [
        " ques 16. What is the purpose of the else block in exception handling?\n",
        "\n",
        " ...> The else block is executed if no exceptions are raised in the try block. It's used for code that should only run if the try block succeeds."
      ],
      "metadata": {
        "id": "FQMu6yjq_yzZ"
      }
    },
    {
      "cell_type": "markdown",
      "source": [
        " ques 17.What are the common logging levels in Python?\n",
        "\n",
        "....> The common logging levels are:\n",
        "1. DEBUG\n",
        "2. INFO\n",
        "3. WARNING\n",
        "4. ERROR\n",
        "5.CRITICAL"
      ],
      "metadata": {
        "id": "DDpnH8hA_4v1"
      }
    },
    {
      "cell_type": "markdown",
      "source": [
        " ques 18. What is the difference between os.fork() and multiprocessing in Python?\n",
        "\n",
        "....> os.fork() creates a child process that is a copy of the parent process, sharing the same memory space initially (on Unix-like systems). multiprocessing creates independent processes with separate memory spaces. multiprocessing is generally preferred for cross-platform compatibility."
      ],
      "metadata": {
        "id": "Fz_vv12VADil"
      }
    },
    {
      "cell_type": "markdown",
      "source": [
        " ques 19. What is the importance of closing a file in Python?\n",
        "\n",
        " ...> Closing a file releases the resources held by the file, such as file handles and buffers. It ensures that data is written to the file and prevents data corruption or resource leaks."
      ],
      "metadata": {
        "id": "zUUdAC5RAIsU"
      }
    },
    {
      "cell_type": "markdown",
      "source": [
        " ques 20.What is the difference between file.read() and file.readline() in Python?\n",
        "\n",
        " ....> - file.read() reads the entire file content as a single string. file.readline() reads a single line from the file, including the newline character.\n"
      ],
      "metadata": {
        "id": "VZ_cSTNvAP8T"
      }
    },
    {
      "cell_type": "markdown",
      "source": [
        " ques 21. What is the logging module in Python used for?\n",
        "\n",
        " -..>  The logging module provides a flexible framework for emitting log messages from Python programs, allowing developers to control the level and destination of log messages.\n"
      ],
      "metadata": {
        "id": "SWW3LbmeAhj9"
      }
    },
    {
      "cell_type": "markdown",
      "source": [
        " ques 22. What is the os module in Python used for in file handling?\n",
        "\n",
        " .....>  The os module provides functions for interacting with the operating system, including file and directory manipulation (e.g., creating, deleting, renaming files, changing directories)."
      ],
      "metadata": {
        "id": "KLBLpwjqAmh0"
      }
    },
    {
      "cell_type": "markdown",
      "source": [
        " ques 23. What are the challenges associated with memory management in Python?\n",
        "\n",
        " .....>  Challenges include dealing with circular references, optimizing memory usage for large data structures, and understanding the nuances of the garbage collection process."
      ],
      "metadata": {
        "id": "DTKLGdXGAr65"
      }
    },
    {
      "cell_type": "markdown",
      "source": [
        " ques 24. How do you raise an exception manually in Python?\n",
        "\n",
        " .....>  You can raise an exception using the raise keyword, followed by the exception type and an optional message:\n",
        "raise ValueError(\"Invalid input\")\n"
      ],
      "metadata": {
        "id": "uoahoLIaAwmE"
      }
    },
    {
      "cell_type": "markdown",
      "source": [
        " ques 25. Why is it important to use multithreading in certain applications?\n",
        "\n",
        " ...>  Multithreading can improve performance in I/O-bound applications by allowing the program to perform other tasks while waiting for I/O operations to complete. It can also enhance responsiveness in GUI applications."
      ],
      "metadata": {
        "id": "Zrri7Ml_A0yP"
      }
    },
    {
      "cell_type": "markdown",
      "source": [
        "# pratical question :"
      ],
      "metadata": {
        "id": "HEcE2NIZCqst"
      }
    },
    {
      "cell_type": "code",
      "source": [
        "#1. How can you open a file for writing in Python and write a string to it?\n",
        "\n",
        "\n",
        "with open(\"my_file.txt\", \"w\") as f:\n",
        "    print((f.write(\"Hello, world!\")))"
      ],
      "metadata": {
        "colab": {
          "base_uri": "https://localhost:8080/"
        },
        "id": "8GTYAjo1Cwvp",
        "outputId": "43fc9dd2-aaca-4e12-92b7-666ccffb0a48"
      },
      "execution_count": 1,
      "outputs": [
        {
          "output_type": "stream",
          "name": "stdout",
          "text": [
            "13\n"
          ]
        }
      ]
    },
    {
      "cell_type": "code",
      "source": [
        "#2. Write a Python program to read the contents of a file and print each line.\n",
        "\n",
        "with open(\"my_file.txt\", \"r\") as f:\n",
        "    for line in f:\n",
        "        print(line, end=\"\")"
      ],
      "metadata": {
        "colab": {
          "base_uri": "https://localhost:8080/"
        },
        "id": "1bJx2xN3C4H2",
        "outputId": "40c2d860-a79e-4889-cf53-82b0e80bdbb3"
      },
      "execution_count": 2,
      "outputs": [
        {
          "output_type": "stream",
          "name": "stdout",
          "text": [
            "Hello, world!"
          ]
        }
      ]
    },
    {
      "cell_type": "code",
      "source": [
        "#3.How would you handle a case where the file doesn't exist while trying to open it for reading?\n",
        "\n",
        "try:\n",
        "    with open(\"nonexistent_file.txt\", \"r\") as f:\n",
        "        content = f.read()\n",
        "except FileNotFoundError:\n",
        "    print(\"File  is not found.\")"
      ],
      "metadata": {
        "colab": {
          "base_uri": "https://localhost:8080/"
        },
        "id": "NMHZ3Xl3DCAB",
        "outputId": "2f6f8ddc-7da7-4fbc-f087-1c5de92eb8bc"
      },
      "execution_count": 23,
      "outputs": [
        {
          "output_type": "stream",
          "name": "stdout",
          "text": [
            "File  is not found.\n"
          ]
        }
      ]
    },
    {
      "cell_type": "code",
      "source": [
        "#4. Write a Python script that reads from one file and writes its content to another file.\n",
        "\n",
        "with open(\"my_file.txt\", \"r\") as source, open(\"destination.txt\", \"w\") as dest:\n",
        "    dest.write(source.read())\n",
        "    with open(\"my_file.txt\", \"r\") as source, open(\"destination.txt\", \"w\") as dest:\n",
        "        print(dest.write(source.read()))\n",
        "\n",
        "    with open(\"destination.txt\", \"r\") as dest:\n",
        "        print(dest.read())\n"
      ],
      "metadata": {
        "colab": {
          "base_uri": "https://localhost:8080/"
        },
        "id": "NFgPxrw_DJ5A",
        "outputId": "22659a95-bee3-4574-fdb9-addb2778b8d2"
      },
      "execution_count": 4,
      "outputs": [
        {
          "output_type": "stream",
          "name": "stdout",
          "text": [
            "13\n",
            "Hello, world!\n"
          ]
        }
      ]
    },
    {
      "cell_type": "code",
      "source": [
        "#5. How would you catch and handle division by zero error in Python?\n",
        "\n",
        "try:\n",
        "    result = 15 / 0\n",
        "except ZeroDivisionError:\n",
        "    print(\"Cannot divide by zero.\")"
      ],
      "metadata": {
        "colab": {
          "base_uri": "https://localhost:8080/"
        },
        "id": "Rtvx5Ke9DaCR",
        "outputId": "ff50bcac-9af7-4870-c1bf-26cf51928c61"
      },
      "execution_count": 24,
      "outputs": [
        {
          "output_type": "stream",
          "name": "stdout",
          "text": [
            "Cannot divide by zero.\n"
          ]
        }
      ]
    },
    {
      "cell_type": "code",
      "source": [
        "#6. Write a Python program that logs an error message to a log file when a division by zero exception occurs.\n",
        "\n",
        "import logging\n",
        "\n",
        "logging.basicConfig(filename='error.log', level=logging.ERROR)\n",
        "\n",
        "try:\n",
        "    result = 15 / 0\n",
        "except ZeroDivisionError:\n",
        "    logging.error(\"Division by zero occurred.\")"
      ],
      "metadata": {
        "colab": {
          "base_uri": "https://localhost:8080/"
        },
        "id": "Ch0eXVg-Dl3z",
        "outputId": "384c53d0-f1da-4ad3-95ae-ae6cc0273b7e"
      },
      "execution_count": 25,
      "outputs": [
        {
          "output_type": "stream",
          "name": "stderr",
          "text": [
            "ERROR:root:Division by zero occurred.\n"
          ]
        }
      ]
    },
    {
      "cell_type": "code",
      "source": [
        "#7.How do you log information at different levels (INFO, ERROR, WARNING) in Python using the logging module?\n",
        "\n",
        "import logging\n",
        "\n",
        "logging.basicConfig(level=logging.INFO)\n",
        "\n",
        "logging.info(\"This is an info message.\")\n",
        "logging.warning(\"This is a warning message.\")\n",
        "logging.error(\"This is an error message.\")"
      ],
      "metadata": {
        "colab": {
          "base_uri": "https://localhost:8080/"
        },
        "id": "fUo-zITXD0Ha",
        "outputId": "bbcdb655-021c-4fbb-a66e-faa75077d771"
      },
      "execution_count": 7,
      "outputs": [
        {
          "output_type": "stream",
          "name": "stderr",
          "text": [
            "WARNING:root:This is a warning message.\n",
            "ERROR:root:This is an error message.\n"
          ]
        }
      ]
    },
    {
      "cell_type": "code",
      "source": [
        "#8. Write a program to handle a file opening error using exception handling.\n",
        "\n",
        "try:\n",
        "    with open(\"unknown.txt\", \"r\") as f:\n",
        "        content = f.read()\n",
        "except FileNotFoundError:\n",
        "    print(\"File could not be opened.\")"
      ],
      "metadata": {
        "colab": {
          "base_uri": "https://localhost:8080/"
        },
        "id": "UwojdJgCD80G",
        "outputId": "0ada3cf2-e16e-4527-fa79-17d3c929bb65"
      },
      "execution_count": 8,
      "outputs": [
        {
          "output_type": "stream",
          "name": "stdout",
          "text": [
            "File could not be opened.\n"
          ]
        }
      ]
    },
    {
      "cell_type": "code",
      "source": [
        "#9. How can you read a file line by line and store its content in a list in Python?\n",
        "\n",
        "lines = []\n",
        "with open(\"my_file.txt\", \"r\") as f:\n",
        "  with open(\"my_file.txt\", \"r\") as f:\n",
        "    lines = []\n",
        "    for line in f:\n",
        "        lines.append(line.strip())\n",
        "        print(lines)\n",
        "        print(line)"
      ],
      "metadata": {
        "colab": {
          "base_uri": "https://localhost:8080/"
        },
        "id": "hFRcasAVEETk",
        "outputId": "034d8a2d-e62d-48b1-e4e1-8fbf34790d32"
      },
      "execution_count": 9,
      "outputs": [
        {
          "output_type": "stream",
          "name": "stdout",
          "text": [
            "['Hello, world!']\n",
            "Hello, world!\n"
          ]
        }
      ]
    },
    {
      "cell_type": "code",
      "source": [
        "10.  # How can you append data to an existing file in Python?\n",
        "\n",
        "with open(\"my_file.txt\", \"a\") as f:\n",
        "    f.write(\"New data to append.\")\n",
        "with open(\"my_file.txt\", \"r\") as f:\n",
        "    content=f.read()\n",
        "    print(content)"
      ],
      "metadata": {
        "colab": {
          "base_uri": "https://localhost:8080/"
        },
        "id": "e4_W-1keELah",
        "outputId": "47fbd8be-4f99-4995-eff5-ec536db4346e"
      },
      "execution_count": 10,
      "outputs": [
        {
          "output_type": "stream",
          "name": "stdout",
          "text": [
            "Object `Python` not found.\n",
            "Hello, world!New data to append.\n"
          ]
        }
      ]
    },
    {
      "cell_type": "code",
      "source": [
        "#11. Write a Python program that uses a try-except block to handle an error when attempting to access a dictionary key that doesn't exist.\n",
        "\n",
        "my_dict = {\"a\": 1, \"b\": 2}\n",
        "try:\n",
        "    value = my_dict[\"c\"]\n",
        "except KeyError:\n",
        "    print(\"Key  is not found.\")"
      ],
      "metadata": {
        "colab": {
          "base_uri": "https://localhost:8080/"
        },
        "id": "1R-29MqNETBg",
        "outputId": "f5b1148d-c5ed-4d98-f83a-9f4dc04b6f67"
      },
      "execution_count": 26,
      "outputs": [
        {
          "output_type": "stream",
          "name": "stdout",
          "text": [
            "Key  is not found.\n"
          ]
        }
      ]
    },
    {
      "cell_type": "code",
      "source": [
        "#12. Write a program that demonstrates using multiple except blocks to handle different types of exceptions.\n",
        "\n",
        "try:\n",
        "    value = int(\"abc\")\n",
        "    result = 10 / 0\n",
        "except ValueError:\n",
        "    print(\"Invalid value.\")\n",
        "except ZeroDivisionError:\n",
        "    print(\"Cannot divide by zero.\")"
      ],
      "metadata": {
        "colab": {
          "base_uri": "https://localhost:8080/"
        },
        "id": "JKpLVEhKEYwX",
        "outputId": "b75b69d4-c333-46e8-adbb-bc3cc76adf2d"
      },
      "execution_count": 12,
      "outputs": [
        {
          "output_type": "stream",
          "name": "stdout",
          "text": [
            "Invalid value.\n"
          ]
        }
      ]
    },
    {
      "cell_type": "code",
      "source": [
        "#13.How would you check if a file exists before attempting to read it in Python?\n",
        "\n",
        "import os\n",
        "\n",
        "if os.path.exists(\"my_file.txt\"):\n",
        "    with open(\"my_file.txt\", \"r\") as f:\n",
        "        content = f.read()\n",
        "        print(\"File is exist\")\n",
        "else:\n",
        "    print(\"File does not exist.\")"
      ],
      "metadata": {
        "colab": {
          "base_uri": "https://localhost:8080/"
        },
        "id": "Y1KmcTgOEfUV",
        "outputId": "59aac897-e912-4b3d-e429-ba8c566cb535"
      },
      "execution_count": 13,
      "outputs": [
        {
          "output_type": "stream",
          "name": "stdout",
          "text": [
            "File is exist\n"
          ]
        }
      ]
    },
    {
      "cell_type": "code",
      "source": [
        "#14.Write a program that uses the logging module to log both informational and error messages.\n",
        "\n",
        "import logging\n",
        "\n",
        "logging.basicConfig(level=logging.INFO)\n",
        "\n",
        "logging.info(\"Program started.\")\n",
        "try:\n",
        "    result = 10 / 0\n",
        "except ZeroDivisionError:\n",
        "    logging.error(\"Division by zero occurred.\")"
      ],
      "metadata": {
        "colab": {
          "base_uri": "https://localhost:8080/"
        },
        "id": "wERQrHRWElnf",
        "outputId": "2b7377a3-04b7-4249-df31-b35d1e2bfb2d"
      },
      "execution_count": 14,
      "outputs": [
        {
          "output_type": "stream",
          "name": "stderr",
          "text": [
            "ERROR:root:Division by zero occurred.\n"
          ]
        }
      ]
    },
    {
      "cell_type": "code",
      "source": [
        "#15.Write a Python program that prints the content of a file and handles the case when the file is empty.\n",
        "\n",
        "try:\n",
        "    with open(\"my_file.txt\", \"r\") as f:\n",
        "        content = f.read()\n",
        "        if not content:\n",
        "            print(\"File is empty.\")\n",
        "        else:\n",
        "            print(content)\n",
        "except FileNotFoundError:\n",
        "    print(\"File not found.\")"
      ],
      "metadata": {
        "colab": {
          "base_uri": "https://localhost:8080/"
        },
        "id": "t8BStuCHEtBV",
        "outputId": "69a979fc-f052-45c5-ef30-159e84cbcdd7"
      },
      "execution_count": 15,
      "outputs": [
        {
          "output_type": "stream",
          "name": "stdout",
          "text": [
            "Hello, world!New data to append.\n"
          ]
        }
      ]
    },
    {
      "cell_type": "code",
      "source": [
        "#16.Demonstrate how to use memory profiling to check the memory usage of a small program.\n",
        "\n",
        "from  memory_profiler  import profile\n",
        "\n",
        "@profile\n",
        "def my_function():\n",
        "    my_list = [i for i in range(1000000)]\n",
        "    return sum(my_list)\n",
        "\n",
        "my_function()"
      ],
      "metadata": {
        "id": "tGDb4Vb4E1CW"
      },
      "execution_count": null,
      "outputs": []
    },
    {
      "cell_type": "code",
      "source": [
        "#17.Write a Python program to create and write a list of numbers to a file, one number per line.\n",
        "\n",
        "numbers = [5, 6, 2, 8, 1]\n",
        "with open(\"numbers.txt\", \"w\") as f:\n",
        "    for num in numbers:\n",
        "        f.write(str(num) + \"\\n\")\n",
        "with open(\"numbers.txt\", \"r\") as f:\n",
        "   print(f.read())"
      ],
      "metadata": {
        "colab": {
          "base_uri": "https://localhost:8080/"
        },
        "id": "5rpoXaf5FGJ6",
        "outputId": "e079e118-24ba-41d5-81c8-73803e9b626b"
      },
      "execution_count": 27,
      "outputs": [
        {
          "output_type": "stream",
          "name": "stdout",
          "text": [
            "5\n",
            "6\n",
            "2\n",
            "8\n",
            "1\n",
            "\n"
          ]
        }
      ]
    },
    {
      "cell_type": "code",
      "source": [
        "#18.How would you implement a basic logging setup that logs to a file with rotation after 1MB?\n",
        "\n",
        "import logging\n",
        "from logging.handlers import RotatingFileHandler\n",
        "\n",
        "logging.basicConfig(level=logging.INFO)\n",
        "\n",
        "handler = RotatingFileHandler('app.log', maxBytes=1024*1024, backupCount=5)\n",
        "logging.getLogger('').addHandler(handler)\n",
        "\n",
        "logging.info(\"This is a log message.\")\n",
        "print(logging.info)"
      ],
      "metadata": {
        "colab": {
          "base_uri": "https://localhost:8080/"
        },
        "id": "sI3pg6S_FLFS",
        "outputId": "b258a4e4-f43c-437a-fd9c-0545cf4063de"
      },
      "execution_count": 17,
      "outputs": [
        {
          "output_type": "stream",
          "name": "stdout",
          "text": [
            "<function info at 0x79a92efa8860>\n"
          ]
        }
      ]
    },
    {
      "cell_type": "code",
      "source": [
        "#19.Write a program that handles both IndexError and KeyError using a try-except block.\n",
        "\n",
        "my_list = [1, 2, 3]\n",
        "my_dict = {\"a\": 1, \"b\": 2}\n",
        "try:\n",
        "    value1 = my_list[5]\n",
        "    value2 = my_dict[\"c\"]\n",
        "except IndexError:\n",
        "    print(\"Index  is out of range.\")\n",
        "except KeyError:\n",
        "    print(\"Key not found.\")"
      ],
      "metadata": {
        "colab": {
          "base_uri": "https://localhost:8080/"
        },
        "id": "z4vbXzwKFQL0",
        "outputId": "455aed40-408d-4c8c-e56d-352819686758"
      },
      "execution_count": 28,
      "outputs": [
        {
          "output_type": "stream",
          "name": "stdout",
          "text": [
            "Index  is out of range.\n"
          ]
        }
      ]
    },
    {
      "cell_type": "code",
      "source": [
        "#20.How would you open a file and read its contents using a context manager in Python?\n",
        "\n",
        "with open(\"my_file.txt\", \"r\") as f:\n",
        "    content = f.read()\n",
        "    print(content)"
      ],
      "metadata": {
        "colab": {
          "base_uri": "https://localhost:8080/"
        },
        "id": "r9BtlPKZFWc0",
        "outputId": "1bc160d2-27e2-4789-d051-e9b8bf2f512f"
      },
      "execution_count": 19,
      "outputs": [
        {
          "output_type": "stream",
          "name": "stdout",
          "text": [
            "Hello, world!New data to append.\n"
          ]
        }
      ]
    },
    {
      "cell_type": "code",
      "source": [
        "#21.Write a Python program that reads a file and prints the number of occurrences of a specific word.\n",
        "\n",
        "word = \"example\"\n",
        "count = 0\n",
        "with open(\"my_file.txt\", \"r\") as f:\n",
        "    for line in f:\n",
        "        count += line.lower().split().count(word.lower())\n",
        "print(f\"The word '{word}' appears {count} times.\")"
      ],
      "metadata": {
        "colab": {
          "base_uri": "https://localhost:8080/"
        },
        "id": "ZZeWbKr2Fbyt",
        "outputId": "b6c99014-c62d-4537-fb88-9675adadd2fe"
      },
      "execution_count": 20,
      "outputs": [
        {
          "output_type": "stream",
          "name": "stdout",
          "text": [
            "The word 'example' appears 0 times.\n"
          ]
        }
      ]
    },
    {
      "cell_type": "code",
      "source": [
        "#22.How can you check if a file is empty before attempting to read its contents?\n",
        "\n",
        "import os\n",
        "\n",
        "if os.stat(\"my_file.txt\").st_size == 0:\n",
        "    print(\"File is empty.\")\n",
        "else:\n",
        "    with open(\"my_file.txt\", \"r\") as f:\n",
        "        content = f.read()\n",
        "        print(content)"
      ],
      "metadata": {
        "colab": {
          "base_uri": "https://localhost:8080/"
        },
        "id": "IUf6Lq61FhcL",
        "outputId": "3a826d3d-0da9-4916-e238-7703e45afe8b"
      },
      "execution_count": 21,
      "outputs": [
        {
          "output_type": "stream",
          "name": "stdout",
          "text": [
            "Hello, world!New data to append.\n"
          ]
        }
      ]
    },
    {
      "cell_type": "code",
      "source": [
        "#23.Write a Python program that writes to a log file when an error occurs during file handling.\n",
        "\n",
        "import logging\n",
        "\n",
        "logging.basicConfig(filename='file_errors.log', level=logging.ERROR)\n",
        "\n",
        "try:\n",
        "    with open(\"nonexistent_file.txt\", \"r\") as f:\n",
        "        content = f.read()\n",
        "except FileNotFoundError:\n",
        "    logging.error(\"File not found.\")"
      ],
      "metadata": {
        "colab": {
          "base_uri": "https://localhost:8080/"
        },
        "id": "gBT-ykGlFm5q",
        "outputId": "c0574418-0c30-4800-843e-471f5c936805"
      },
      "execution_count": 22,
      "outputs": [
        {
          "output_type": "stream",
          "name": "stderr",
          "text": [
            "ERROR:root:File not found.\n"
          ]
        }
      ]
    }
  ]
}